{
 "cells": [
  {
   "cell_type": "code",
   "execution_count": 3,
   "metadata": {},
   "outputs": [
    {
     "name": "stdout",
     "output_type": "stream",
     "text": [
      "Fibonacci sequence:\n",
      "0\n",
      "1\n",
      "1\n",
      "2\n",
      "3\n",
      "5\n",
      "8\n",
      "13\n",
      "21\n"
     ]
    }
   ],
   "source": [
    "def fibonacci(n):\n",
    "    fib_sequence = [0, 1]  # Initial Fibonacci sequence with the first two numbers\n",
    "\n",
    "    if n <= 1:\n",
    "        return fib_sequence[:n + 1]  # Return the sequence up to n (inclusive)\n",
    "\n",
    "    while len(fib_sequence) <= n:\n",
    "        next_number = fib_sequence[-1] + fib_sequence[-2]  # Calculate the next Fibonacci number\n",
    "        fib_sequence.append(next_number)  # Add the next number to the sequence\n",
    "\n",
    "    return fib_sequence\n",
    "\n",
    "# Test the function\n",
    "num_terms = int(input(\"Enter the number of Fibonacci terms to generate: \"))\n",
    "\n",
    "fibonacci_sequence = fibonacci(num_terms)\n",
    "\n",
    "print(\"Fibonacci sequence:\")\n",
    "for term in fibonacci_sequence:\n",
    "    print(term)\n"
   ]
  }
 ],
 "metadata": {
  "kernelspec": {
   "display_name": "Python 3",
   "language": "python",
   "name": "python3"
  },
  "language_info": {
   "codemirror_mode": {
    "name": "ipython",
    "version": 3
   },
   "file_extension": ".py",
   "mimetype": "text/x-python",
   "name": "python",
   "nbconvert_exporter": "python",
   "pygments_lexer": "ipython3",
   "version": "3.10.8"
  },
  "orig_nbformat": 4
 },
 "nbformat": 4,
 "nbformat_minor": 2
}
