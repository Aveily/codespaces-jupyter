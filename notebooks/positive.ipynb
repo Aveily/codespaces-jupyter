{
 "cells": [
  {
   "cell_type": "code",
   "execution_count": 1,
   "metadata": {},
   "outputs": [
    {
     "name": "stdout",
     "output_type": "stream",
     "text": [
      "Input: [12, -7, 5, 64, -14]\n",
      "Output: [12, 5, 64]\n",
      "Input: [12, 14, -95, 3]\n",
      "Output: [12, 14, 3]\n"
     ]
    }
   ],
   "source": [
    "def print_positive_numbers(lst):\n",
    "    positive_nums = [num for num in lst if num > 0]  # Create a new list with positive numbers\n",
    "    return positive_nums\n",
    "\n",
    "# Test the function\n",
    "list1 = [12, -7, 5, 64, -14]\n",
    "list2 = [12, 14, -95, 3]\n",
    "\n",
    "output1 = print_positive_numbers(list1)\n",
    "output2 = print_positive_numbers(list2)\n",
    "\n",
    "print(\"Input:\", list1)\n",
    "print(\"Output:\", output1)\n",
    "\n",
    "print(\"Input:\", list2)\n",
    "print(\"Output:\", output2)\n"
   ]
  }
 ],
 "metadata": {
  "kernelspec": {
   "display_name": "Python 3",
   "language": "python",
   "name": "python3"
  },
  "language_info": {
   "codemirror_mode": {
    "name": "ipython",
    "version": 3
   },
   "file_extension": ".py",
   "mimetype": "text/x-python",
   "name": "python",
   "nbconvert_exporter": "python",
   "pygments_lexer": "ipython3",
   "version": "3.10.8"
  },
  "orig_nbformat": 4
 },
 "nbformat": 4,
 "nbformat_minor": 2
}
